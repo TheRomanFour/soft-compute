{
  "cells": [
    {
      "cell_type": "markdown",
      "metadata": {
        "id": "hDXm8sS4eA35"
      },
      "source": [
        "## Radijalne bazne funkcije"
      ]
    },
    {
      "cell_type": "markdown",
      "metadata": {
        "id": "fkkg6Y73iBhW"
      },
      "source": [
        "Korišteni repozitorij [Link](https://github.com/raaaouf/RBF_neural_network_python)"
      ]
    },
    {
      "cell_type": "code",
      "execution_count": 198,
      "metadata": {
        "colab": {
          "base_uri": "https://localhost:8080/"
        },
        "id": "skLnkS_bhxTH",
        "outputId": "99711fd5-818c-471b-89a6-bcde2aedb395"
      },
      "outputs": [
        {
          "name": "stdout",
          "output_type": "stream",
          "text": [
            "fatal: destination path 'RBF_neural_network_python' already exists and is not an empty directory.\n"
          ]
        }
      ],
      "source": [
        "# Učitavanje repozitorija na colab\n",
        "!git clone https://github.com/raaaouf/RBF_neural_network_python.git\n",
        "\n",
        "from keras import backend as K\n",
        "from tensorflow.python.keras.layers import Layer\n",
        "from keras.initializers import RandomUniform, Initializer, Constant\n",
        "import numpy as np\n",
        "\n",
        "\n",
        "from keras.initializers import Initializer\n",
        "from sklearn.cluster import KMeans\n",
        "\n",
        "\n",
        "import numpy as np, pandas as pd\n",
        "from keras.models import Sequential\n",
        "from keras.layers import Dense\n",
        "from keras.layers import Activation\n",
        "from keras.optimizers import RMSprop\n",
        "import matplotlib.pyplot as plt\n",
        "\n",
        "from tensorflow.random import set_seed\n",
        "\n",
        "# Seed set\n",
        "seed = 1312\n",
        "np.random.seed(seed)\n",
        "set_seed(seed)\n",
        "from keras.utils import set_random_seed\n",
        "set_random_seed(seed)"
      ]
    },
    {
      "cell_type": "code",
      "execution_count": 199,
      "metadata": {
        "id": "PO_QgIkVePHg"
      },
      "outputs": [],
      "source": [
        "# RBF_neuralNetwork skripta\n",
        "\"\"\"\n",
        "MIT Licence\n",
        "\n",
        "Zoghbi Abderraouf\n",
        "Change data to your location\n",
        "\"\"\"\n",
        "\n",
        "\n",
        "\n",
        "class InitCentersRandom(Initializer):\n",
        "    \"\"\" Initializer for initialization of centers of RBF network\n",
        "        as random samples from the given data set.\n",
        "    # Arguments\n",
        "        X: matrix, dataset to choose the centers from (random rows\n",
        "          are taken as centers)\n",
        "    \"\"\"\n",
        "\n",
        "    def __init__(self, X):\n",
        "        self.X = X\n",
        "\n",
        "    def __call__(self, shape, dtype=None):\n",
        "        assert shape[1] == self.X.shape[1]\n",
        "        idx = np.random.randint(self.X.shape[0], size=shape[0])\n",
        "        return self.X[idx, :]\n",
        "\n",
        "\n",
        "class RBFLayer(Layer):\n",
        "    \"\"\" Layer of Gaussian RBF units.\n",
        "    # Example\n",
        "    ```python\n",
        "        model = Sequential()\n",
        "        model.add(RBFLayer(10,\n",
        "                           initializer=InitCentersRandom(X),\n",
        "                           betas=1.0,\n",
        "                           input_shape=(1,)))\n",
        "        model.add(Dense(1))\n",
        "    ```\n",
        "    # Arguments\n",
        "        output_dim: number of hidden units (i.e. number of outputs of the\n",
        "                    layer)\n",
        "        initializer: instance of initiliazer to initialize centers\n",
        "        betas: float, initial value for betas\n",
        "    \"\"\"\n",
        "\n",
        "    def __init__(self, output_dim, initializer=None, betas=1.0, **kwargs):\n",
        "        self.output_dim = output_dim\n",
        "        self.init_betas = betas\n",
        "        if not initializer:\n",
        "            self.initializer = RandomUniform(0.0, 1.0)\n",
        "        else:\n",
        "            self.initializer = initializer\n",
        "        super(RBFLayer, self).__init__(**kwargs)\n",
        "\n",
        "    def build(self, input_shape):\n",
        "\n",
        "        self.centers = self.add_weight(name='centers',\n",
        "                                       shape=(self.output_dim, input_shape[1]),\n",
        "                                       initializer=self.initializer,\n",
        "                                       trainable=True)\n",
        "        self.betas = self.add_weight(name='betas',\n",
        "                                     shape=(self.output_dim,),\n",
        "                                     initializer=Constant(\n",
        "                                         value=self.init_betas),\n",
        "                                     # initializer='ones',\n",
        "                                     trainable=True)\n",
        "\n",
        "        super(RBFLayer, self).build(input_shape)\n",
        "\n",
        "    def call(self, x):\n",
        "\n",
        "        C = K.expand_dims(self.centers)\n",
        "        H = K.transpose(C-K.transpose(x))\n",
        "        return K.exp(-self.betas * K.sum(H**2, axis=1))\n",
        "\n",
        "        # C = self.centers[np.newaxis, :, :]\n",
        "        # X = x[:, np.newaxis, :]\n",
        "\n",
        "        # diffnorm = K.sum((C-X)**2, axis=-1)\n",
        "        # ret = K.exp( - self.betas * diffnorm)\n",
        "        # return ret\n",
        "\n",
        "    def compute_output_shape(self, input_shape):\n",
        "        return (input_shape[0], self.output_dim)\n",
        "\n",
        "    def get_config(self):\n",
        "        # have to define get_config to be able to use model_from_json\n",
        "        config = {\n",
        "            'output_dim': self.output_dim\n",
        "        }\n",
        "        base_config = super(RBFLayer, self).get_config()\n",
        "        return dict(list(base_config.items()) + list(config.items()))\n",
        "\n",
        "\n",
        "\n",
        "class InitCentersKMeans(Initializer):\n",
        "    \"\"\" Initializer for initialization of centers of RBF network\n",
        "        by clustering the given data set.\n",
        "    # Arguments\n",
        "        X: matrix, dataset\n",
        "    \"\"\"\n",
        "\n",
        "    def __init__(self, X, max_iter=100):\n",
        "        self.X = X\n",
        "        self.max_iter = max_iter\n",
        "\n",
        "    def __call__(self, shape, dtype=None):\n",
        "        assert shape[1] == self.X.shape[1]\n",
        "\n",
        "        n_centers = shape[0]\n",
        "        km = KMeans(n_clusters=n_centers, max_iter=self.max_iter, verbose=0, random_state=seed)\n",
        "        km.fit(self.X)\n",
        "        print(km.cluster_centers_)\n",
        "        print(km.cluster_centers_.shape)\n",
        "        return km.cluster_centers_\n",
        "\n",
        "\n"
      ]
    }
  ],
  "metadata": {
    "colab": {
      "provenance": []
    },
    "kernelspec": {
      "display_name": "Python 3",
      "name": "python3"
    },
    "language_info": {
      "name": "python"
    }
  },
  "nbformat": 4,
  "nbformat_minor": 0
}
